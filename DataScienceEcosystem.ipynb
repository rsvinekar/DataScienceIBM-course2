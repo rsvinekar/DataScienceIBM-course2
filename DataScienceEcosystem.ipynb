{
 "cells": [
  {
   "cell_type": "markdown",
   "id": "3d4ec9fe-78a8-4126-a3f1-3423a31bb4ad",
   "metadata": {},
   "source": [
    "# Data Science Tools and Ecosystem"
   ]
  },
  {
   "cell_type": "markdown",
   "id": "f7b81307-dc52-44dd-af1b-4393af0a92a9",
   "metadata": {},
   "source": [
    "In this notebook, Data Science Tools and Ecosystem are summarized"
   ]
  },
  {
   "cell_type": "markdown",
   "id": "a68f1b86-aa02-45d5-a448-ca6dd0b1c21f",
   "metadata": {},
   "source": [
    "Some of the popular languages that Data Scientists use are:\n",
    "1. Python\n",
    "2. SQL\n",
    "3. R\n",
    "4. Java\n",
    "5. Julia"
   ]
  },
  {
   "cell_type": "markdown",
   "id": "954f4051-782e-4aa1-8cbd-45c17ee527c3",
   "metadata": {},
   "source": [
    "Some of the commonly used libraries used by Data Scientists include:\n",
    "1. Pandas\n",
    "2. Numpy\n",
    "3. Matplotlib\n",
    "4. Seaborn\n",
    "5. Tensorflow"
   ]
  },
  {
   "cell_type": "markdown",
   "id": "ef63d60b-82eb-42a7-8a3b-bb729438b5c6",
   "metadata": {},
   "source": [
    "| Data Science Tools |\n",
    "| ------------------ |\n",
    "| Jupyter Notebook   |\n",
    "| RStudio            |\n",
    "| Apache Zepellin    |"
   ]
  },
  {
   "cell_type": "markdown",
   "id": "53df5150-1f50-46e9-b323-f0b7670d09c0",
   "metadata": {},
   "source": [
    "### Below are a few examples of evaluating arithmetic expressions in python"
   ]
  },
  {
   "cell_type": "code",
   "execution_count": 16,
   "id": "9c7aa51b-d03a-404a-8f4a-e08ceebe6c18",
   "metadata": {
    "tags": []
   },
   "outputs": [
    {
     "data": {
      "text/plain": [
       "17"
      ]
     },
     "execution_count": 16,
     "metadata": {},
     "output_type": "execute_result"
    }
   ],
   "source": [
    "# This is a simple arithmetic expression to multiply then add integers\n",
    "(3*4)+5"
   ]
  },
  {
   "cell_type": "code",
   "execution_count": 15,
   "id": "2e41b63e-ffdf-4b03-a653-334761700f86",
   "metadata": {
    "tags": []
   },
   "outputs": [
    {
     "name": "stdout",
     "output_type": "stream",
     "text": [
      "200 minutes =  3 hr, 20 min. i.e. 3.3333333333333335 hours\n"
     ]
    }
   ],
   "source": [
    "# This will convert 200 minutes to hours by dividing by 60\n",
    "min = 200\n",
    "print(min,\"minutes = \",int(min/60),\"hr,\",min%60,\"min. i.e.\",min/60,\"hours\")"
   ]
  },
  {
   "cell_type": "markdown",
   "id": "f53d5526-db43-4dbd-b032-24017e741950",
   "metadata": {},
   "source": [
    "### Objectives\n",
    "* List popular languages for Data science\n",
    "* List popular libraries used in Data Science\n",
    "* Tabulate popular opensource tools used as ide's for Data Science\n",
    "* Show simple arithmetic expressions in the notebook\n",
    "* Convert minutes to hours"
   ]
  },
  {
   "cell_type": "markdown",
   "id": "cb0d852b-8ae2-4278-b37f-cb544554c881",
   "metadata": {},
   "source": [
    "## Author\n",
    "Rithvik Vinekar"
   ]
  },
  {
   "cell_type": "code",
   "execution_count": null,
   "id": "767b2b16-a6d8-444a-99aa-ea08127384ae",
   "metadata": {},
   "outputs": [],
   "source": []
  }
 ],
 "metadata": {
  "kernelspec": {
   "display_name": "Python",
   "language": "python",
   "name": "conda-env-python-py"
  },
  "language_info": {
   "codemirror_mode": {
    "name": "ipython",
    "version": 3
   },
   "file_extension": ".py",
   "mimetype": "text/x-python",
   "name": "python",
   "nbconvert_exporter": "python",
   "pygments_lexer": "ipython3",
   "version": "3.7.12"
  }
 },
 "nbformat": 4,
 "nbformat_minor": 5
}
